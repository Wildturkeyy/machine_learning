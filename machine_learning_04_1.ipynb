{
 "cells": [
  {
   "cell_type": "markdown",
   "metadata": {},
   "source": [
    "로지스틱 회귀"
   ]
  },
  {
   "cell_type": "code",
   "execution_count": null,
   "metadata": {},
   "outputs": [],
   "source": [
    "# 한빛 럭키백 이벤트 #\n",
    "\n",
    "# 구성품을 모른 채 먼제 구매하고, 배송받은 다음에야 비로소 구성품을 알 수 있는 상품 (생선으로 한정)\n",
    "# 럭키백에 포함된 생선의 확률을 알려주는 방향으로 이벤트 진행\n",
    "#     >> 만약 A 럭키백에 도미 확률이 높다고 표시하면 도미를 원한 고객은 A 럭키백을 구매할 것\n",
    "\n",
    "# 럭키백에 들어갈 수 잇는 생선은 7개\n",
    "# 럭키백에 들어간 생선의 크기, 무게 등이 주어졌을 때 7개 생선에 대한 확률 출력\n",
    "\n",
    "# 길이, 높이, 두께, 대각선길이, 무게 가 주어짐"
   ]
  },
  {
   "cell_type": "code",
   "execution_count": null,
   "metadata": {},
   "outputs": [],
   "source": [
    "# 1번째 시도. k-최근접 이웃 > 이웃의 클래스 비율을 확률로"
   ]
  },
  {
   "cell_type": "code",
   "execution_count": 1,
   "metadata": {},
   "outputs": [
    {
     "data": {
      "text/html": [
       "<div>\n",
       "<style scoped>\n",
       "    .dataframe tbody tr th:only-of-type {\n",
       "        vertical-align: middle;\n",
       "    }\n",
       "\n",
       "    .dataframe tbody tr th {\n",
       "        vertical-align: top;\n",
       "    }\n",
       "\n",
       "    .dataframe thead th {\n",
       "        text-align: right;\n",
       "    }\n",
       "</style>\n",
       "<table border=\"1\" class=\"dataframe\">\n",
       "  <thead>\n",
       "    <tr style=\"text-align: right;\">\n",
       "      <th></th>\n",
       "      <th>Species</th>\n",
       "      <th>Weight</th>\n",
       "      <th>Length</th>\n",
       "      <th>Diagonal</th>\n",
       "      <th>Height</th>\n",
       "      <th>Width</th>\n",
       "    </tr>\n",
       "  </thead>\n",
       "  <tbody>\n",
       "    <tr>\n",
       "      <th>0</th>\n",
       "      <td>Bream</td>\n",
       "      <td>242.0</td>\n",
       "      <td>25.4</td>\n",
       "      <td>30.0</td>\n",
       "      <td>11.5200</td>\n",
       "      <td>4.0200</td>\n",
       "    </tr>\n",
       "    <tr>\n",
       "      <th>1</th>\n",
       "      <td>Bream</td>\n",
       "      <td>290.0</td>\n",
       "      <td>26.3</td>\n",
       "      <td>31.2</td>\n",
       "      <td>12.4800</td>\n",
       "      <td>4.3056</td>\n",
       "    </tr>\n",
       "    <tr>\n",
       "      <th>2</th>\n",
       "      <td>Bream</td>\n",
       "      <td>340.0</td>\n",
       "      <td>26.5</td>\n",
       "      <td>31.1</td>\n",
       "      <td>12.3778</td>\n",
       "      <td>4.6961</td>\n",
       "    </tr>\n",
       "    <tr>\n",
       "      <th>3</th>\n",
       "      <td>Bream</td>\n",
       "      <td>363.0</td>\n",
       "      <td>29.0</td>\n",
       "      <td>33.5</td>\n",
       "      <td>12.7300</td>\n",
       "      <td>4.4555</td>\n",
       "    </tr>\n",
       "    <tr>\n",
       "      <th>4</th>\n",
       "      <td>Bream</td>\n",
       "      <td>430.0</td>\n",
       "      <td>29.0</td>\n",
       "      <td>34.0</td>\n",
       "      <td>12.4440</td>\n",
       "      <td>5.1340</td>\n",
       "    </tr>\n",
       "  </tbody>\n",
       "</table>\n",
       "</div>"
      ],
      "text/plain": [
       "  Species  Weight  Length  Diagonal   Height   Width\n",
       "0   Bream   242.0    25.4      30.0  11.5200  4.0200\n",
       "1   Bream   290.0    26.3      31.2  12.4800  4.3056\n",
       "2   Bream   340.0    26.5      31.1  12.3778  4.6961\n",
       "3   Bream   363.0    29.0      33.5  12.7300  4.4555\n",
       "4   Bream   430.0    29.0      34.0  12.4440  5.1340"
      ]
     },
     "execution_count": 1,
     "metadata": {},
     "output_type": "execute_result"
    }
   ],
   "source": [
    "# 데이터 read\n",
    "import pandas as pd \n",
    "fish = pd.read_csv('http://bit.ly/fish_csv_data')\n",
    "fish.head()"
   ]
  },
  {
   "cell_type": "code",
   "execution_count": 2,
   "metadata": {},
   "outputs": [
    {
     "name": "stdout",
     "output_type": "stream",
     "text": [
      "['Bream' 'Roach' 'Whitefish' 'Parkki' 'Perch' 'Pike' 'Smelt']\n"
     ]
    }
   ],
   "source": [
    "# 판다스의 unique() 함수를 이용하여 어떤 종류가 있는지 출력\n",
    "print(pd.unique(fish['Species']))"
   ]
  },
  {
   "cell_type": "code",
   "execution_count": 8,
   "metadata": {},
   "outputs": [
    {
     "name": "stdout",
     "output_type": "stream",
     "text": [
      "[[242.      25.4     30.      11.52     4.02  ]\n",
      " [290.      26.3     31.2     12.48     4.3056]\n",
      " [340.      26.5     31.1     12.3778   4.6961]\n",
      " [363.      29.      33.5     12.73     4.4555]\n",
      " [430.      29.      34.      12.444    5.134 ]]\n"
     ]
    }
   ],
   "source": [
    "# 데이터 프레임에서 열을 선택하서 numpy로 바꾸어 저장하는 방법\n",
    "import numpy as np\n",
    "\n",
    "fish_input = fish[['Weight','Length','Diagonal','Height','Width']].to_numpy()\n",
    "print(fish_input[:5])"
   ]
  },
  {
   "cell_type": "code",
   "execution_count": 9,
   "metadata": {},
   "outputs": [],
   "source": [
    "fish_target = fish['Species'].to_numpy()"
   ]
  },
  {
   "cell_type": "code",
   "execution_count": 10,
   "metadata": {},
   "outputs": [],
   "source": [
    "# 데이터 나누기\n",
    "from sklearn.model_selection import train_test_split\n",
    "train_input, test_input, train_target, test_target = train_test_split(fish_input, fish_target,\n",
    "                                                                random_state=42)\n",
    "\n",
    "# 표준화 전처리\n",
    "\n",
    "from sklearn.preprocessing import StandardScaler\n",
    "ss = StandardScaler()\n",
    "train_scaled = ss.fit_transform(train_input)\n",
    "test_scaled = ss.fit_transform(test_input)"
   ]
  },
  {
   "cell_type": "code",
   "execution_count": 11,
   "metadata": {},
   "outputs": [
    {
     "name": "stdout",
     "output_type": "stream",
     "text": [
      "0.8907563025210085\n",
      "0.875\n"
     ]
    },
    {
     "name": "stderr",
     "output_type": "stream",
     "text": [
      "c:\\Users\\user\\anaconda3\\lib\\site-packages\\sklearn\\neighbors\\_classification.py:228: FutureWarning: Unlike other reduction functions (e.g. `skew`, `kurtosis`), the default behavior of `mode` typically preserves the axis it acts along. In SciPy 1.11.0, this behavior will change: the default value of `keepdims` will become False, the `axis` over which the statistic is taken will be eliminated, and the value None will no longer be accepted. Set `keepdims` to True or False to avoid this warning.\n",
      "  mode, _ = stats.mode(_y[neigh_ind, k], axis=1)\n",
      "c:\\Users\\user\\anaconda3\\lib\\site-packages\\sklearn\\neighbors\\_classification.py:228: FutureWarning: Unlike other reduction functions (e.g. `skew`, `kurtosis`), the default behavior of `mode` typically preserves the axis it acts along. In SciPy 1.11.0, this behavior will change: the default value of `keepdims` will become False, the `axis` over which the statistic is taken will be eliminated, and the value None will no longer be accepted. Set `keepdims` to True or False to avoid this warning.\n",
      "  mode, _ = stats.mode(_y[neigh_ind, k], axis=1)\n"
     ]
    }
   ],
   "source": [
    "# k-최근접 이웃 분류 클래스를 이용하여 최근접 이웃 개수 k를 3으로 지정하여 사용\n",
    "\n",
    "from sklearn.neighbors import KNeighborsClassifier\n",
    "kn = KNeighborsClassifier(n_neighbors=3)\n",
    "kn.fit(train_scaled, train_target)\n",
    "print(kn.score(train_scaled, train_target))\n",
    "print(kn.score(test_scaled, test_target))"
   ]
  },
  {
   "attachments": {},
   "cell_type": "markdown",
   "metadata": {},
   "source": [
    "##### 다중분류\n",
    "- fish_target에는 7개의 생선이 들어있음. 타깃 데이터에 2개 이상의 클래스가 포함된 문제\n",
    "- 이진 분류와 모델을 만들고 훈련하는 방식은 동일\n",
    "- 이진 분류시 양성 클래스와 음성 클래스로 각각 1, 0으로 지정하여 타깃 데이터 만듦\n",
    "- 다중 분류에서도 타깃값을 숫자로 바꾸어 입력할 수 있지만\n",
    "- 사이킷런에서는 문자열로 된 타깃값 그대로 사용 가능."
   ]
  },
  {
   "cell_type": "code",
   "execution_count": 12,
   "metadata": {},
   "outputs": [
    {
     "name": "stdout",
     "output_type": "stream",
     "text": [
      "['Bream' 'Parkki' 'Perch' 'Pike' 'Roach' 'Smelt' 'Whitefish']\n"
     ]
    }
   ],
   "source": [
    "# 주의할 점 #\n",
    "\n",
    "# 타깃값을 그대로 사이킷런 모델에 전달하면 순서가 자동으로 알파벳 순으로 매겨짐.\n",
    "# 따라서 pd.unique(fish['Species'])로 출력했던 순서와 다름.\n",
    "\n",
    "# KNeighborsClassifier에서 정렬된 타깃값은 classes_ 속성에 저장되어 있음.\n",
    "print(kn.classes_)"
   ]
  },
  {
   "cell_type": "code",
   "execution_count": 13,
   "metadata": {},
   "outputs": [
    {
     "name": "stdout",
     "output_type": "stream",
     "text": [
      "['Perch' 'Smelt' 'Pike' 'Perch' 'Perch']\n"
     ]
    },
    {
     "name": "stderr",
     "output_type": "stream",
     "text": [
      "c:\\Users\\user\\anaconda3\\lib\\site-packages\\sklearn\\neighbors\\_classification.py:228: FutureWarning: Unlike other reduction functions (e.g. `skew`, `kurtosis`), the default behavior of `mode` typically preserves the axis it acts along. In SciPy 1.11.0, this behavior will change: the default value of `keepdims` will become False, the `axis` over which the statistic is taken will be eliminated, and the value None will no longer be accepted. Set `keepdims` to True or False to avoid this warning.\n",
      "  mode, _ = stats.mode(_y[neigh_ind, k], axis=1)\n"
     ]
    }
   ],
   "source": [
    "# 테스트 세트 처음 5개로 타깃값 예측해보기\n",
    "print(kn.predict(test_scaled[:5]))"
   ]
  },
  {
   "cell_type": "code",
   "execution_count": null,
   "metadata": {},
   "outputs": [],
   "source": [
    "# 샘플에 대한 예측 확률\n",
    "# 사이킷런 분류 모델 predict_proba() 메서드로 클래스별 확률값 반환\n",
    "### 넘파이 round() 함수는 기본으로 소수점 첫째 자리에서 반올림. \n",
    "#   decimals 매개변수로 유지할 소수점 아래 자릿수 지정 가능"
   ]
  },
  {
   "cell_type": "code",
   "execution_count": 15,
   "metadata": {},
   "outputs": [
    {
     "name": "stdout",
     "output_type": "stream",
     "text": [
      "[[0.     0.     1.     0.     0.     0.     0.    ]\n",
      " [0.     0.     0.3333 0.     0.     0.6667 0.    ]\n",
      " [0.     0.     0.     1.     0.     0.     0.    ]\n",
      " [0.     0.     0.6667 0.     0.3333 0.     0.    ]\n",
      " [0.     0.     0.6667 0.     0.3333 0.     0.    ]]\n"
     ]
    }
   ],
   "source": [
    "import numpy as np\n",
    "proba = kn.predict_proba(test_scaled[:5])\n",
    "print(np.round(proba, decimals=4))"
   ]
  },
  {
   "cell_type": "code",
   "execution_count": 16,
   "metadata": {},
   "outputs": [
    {
     "name": "stdout",
     "output_type": "stream",
     "text": [
      "[['Perch' 'Roach' 'Perch']]\n"
     ]
    }
   ],
   "source": [
    "# 이 모델이 계산한 확률이 가장 가까운 이웃의 비율이 맞는지 확인해보기.\n",
    "# 4번째 샘플의 최근접 이웃 클래스 확인\n",
    "\n",
    "distances, indexes = kn.kneighbors(test_scaled[3:4])\n",
    "print(train_target[indexes])\n",
    "\n",
    "#  [0.     0.     0.6667 0.     0.3333 0.     0.    ]"
   ]
  },
  {
   "attachments": {},
   "cell_type": "markdown",
   "metadata": {},
   "source": [
    "로지스틱 회귀(logistic regression)\n",
    "\n",
    "- 이름은 회귀이지만 분류 모델 \n",
    "- 선형회귀와 동일하게 선형 방정식을 학습함.\n",
    "- ```z = a * (Weight)  + b * (Length) + c x (Diagonal) + d x (Height) + e x (Width) + f```\n",
    "- a, b, c, d, e == 가중치(계수)\n",
    "- 특성은 늘어났지만 다중 회귀를 위한 선형 방정식과 같음.\n",
    "- z는 어떤 값도 가능하지만 확률이 되려면 0 ~ 1, 또는 0 ~ 100(%) 사이 값이 되어야 함."
   ]
  },
  {
   "attachments": {},
   "cell_type": "markdown",
   "metadata": {},
   "source": [
    "시그모이드 함수 (sigmoid function) (로지스틱 함수<logistic function>)\n",
    "- z 가 아주 큰 음수일 때 0이 되고 , z가 아주 큰 양수일 때 1이 되도록 바꾸는 방법\n",
    "\n",
    "- z 가 무한하게 큰 음수일 경우 함수는 0에 가까워지고\n",
    "- z 가 무한하게 큰 양수일 경우 함수는 1에 가까워짐.\n",
    "- z 가 0이 될 때는 0.5가 됨.  >> z가 어떤 값이 되더라도 0~1사이 안의 값이 됨."
   ]
  },
  {
   "cell_type": "code",
   "execution_count": 18,
   "metadata": {},
   "outputs": [
    {
     "data": {
      "image/png": "[encoded data removed]",
      "text/plain": [
       "<Figure size 640x480 with 1 Axes>"
      ]
     },
     "metadata": {},
     "output_type": "display_data"
    }
   ],
   "source": [
    "# numpy 사용하여 그래프 그리기\n",
    "\n",
    "import numpy as np \n",
    "import matplotlib.pyplot as plt \n",
    "z = np.arange(-5,5,0.1)\n",
    "phi = 1 / (1 + np.exp(-z))\n",
    "plt.plot(z, phi)\n",
    "plt.xlabel('z')\n",
    "plt.ylabel('phi')\n",
    "plt.show()\n",
    "\n",
    "# 지수함수 계산 = np.exp() 함수 사용"
   ]
  },
  {
   "cell_type": "code",
   "execution_count": null,
   "metadata": {},
   "outputs": [],
   "source": [
    "# 도미와 빙어를 사용해서 이진 분류 우선 수행해보기\n",
    "\n",
    "# 로지스틱 회귀로 이진 분류 수행\n"
   ]
  },
  {
   "cell_type": "code",
   "execution_count": 20,
   "metadata": {},
   "outputs": [
    {
     "name": "stdout",
     "output_type": "stream",
     "text": [
      "['A' 'C']\n"
     ]
    }
   ],
   "source": [
    "# 넘파이는 True, False 값을 전달하여 행을 선택할 수 있음 == 불리언 인덱싱(boolean indexing)\n",
    "\n",
    "# 'A'에서 'E'까지 5개의 원소로 이루어진 배열에서 'A'와 'C'만 골라내려면 \n",
    "# 첫 번째와 세번째 원소만 True이고 나머지 원소는 모두  False인 배열을 전달하면 됨.\n",
    "\n",
    "charr_arr = np.array(['A','B','C','D','E'])\n",
    "print(charr_arr[[True, False, True, False, False]])\n"
   ]
  },
  {
   "cell_type": "code",
   "execution_count": 21,
   "metadata": {},
   "outputs": [],
   "source": [
    "# 위와 같은 방식으로 훈련 세트에서 도미(Bream)과 빙어(Smelt)만 골라내기\n",
    "# 비교연산자 사용\n",
    "\n",
    "bream_smelt_indexes = (train_target == 'Bream') | (train_target == 'Smelt')\n",
    "train_bream_smelt = train_scaled[bream_smelt_indexes]\n",
    "target_bream_smelt = train_target[bream_smelt_indexes]"
   ]
  },
  {
   "cell_type": "code",
   "execution_count": 22,
   "metadata": {},
   "outputs": [
    {
     "data": {
      "text/plain": [
       "LogisticRegression()"
      ]
     },
     "execution_count": 22,
     "metadata": {},
     "output_type": "execute_result"
    }
   ],
   "source": [
    "# 로지스틱 회귀 모델 훈련하기 선형 모델 패키기 아래 있음\n",
    "\n",
    "from sklearn.linear_model import LogisticRegression\n",
    "lr = LogisticRegression()\n",
    "lr.fit(train_bream_smelt, target_bream_smelt)"
   ]
  },
  {
   "cell_type": "code",
   "execution_count": 24,
   "metadata": {},
   "outputs": [
    {
     "name": "stdout",
     "output_type": "stream",
     "text": [
      "['Bream' 'Smelt' 'Bream' 'Bream' 'Bream']\n"
     ]
    }
   ],
   "source": [
    "# 훈련한 모델을 이용하여 train_bream_smelt에 있는 처음 다섯개 샘플 예측하기\n",
    "\n",
    "print(lr.predict(train_bream_smelt[:5]))\n",
    "# 두 번째 샘플 제외하고 모두 도미(Bream)으로 예측"
   ]
  },
  {
   "cell_type": "code",
   "execution_count": 25,
   "metadata": {},
   "outputs": [
    {
     "name": "stdout",
     "output_type": "stream",
     "text": [
      "[[0.99759855 0.00240145]\n",
      " [0.02735183 0.97264817]\n",
      " [0.99486072 0.00513928]\n",
      " [0.98584202 0.01415798]\n",
      " [0.99767269 0.00232731]]\n"
     ]
    }
   ],
   "source": [
    "# 예측 확률은 KNeighborsClassifier과 마찬가지로 predict_proba() 메서드에서 제공\n",
    "print(lr.predict_proba(train_bream_smelt[:5]))"
   ]
  },
  {
   "cell_type": "code",
   "execution_count": 26,
   "metadata": {},
   "outputs": [
    {
     "name": "stdout",
     "output_type": "stream",
     "text": [
      "['Bream' 'Smelt']\n"
     ]
    }
   ],
   "source": [
    "# classes_확인\n",
    "print(lr.classes_)"
   ]
  },
  {
   "cell_type": "code",
   "execution_count": 27,
   "metadata": {},
   "outputs": [
    {
     "name": "stdout",
     "output_type": "stream",
     "text": [
      "[[-0.4037798  -0.57620209 -0.66280298 -1.01290277 -0.73168947]] [-2.16155132]\n"
     ]
    }
   ],
   "source": [
    "# 로지스틱 회귀가 학습한 계수 확인\n",
    "print(lr.coef_, lr.intercept_)"
   ]
  },
  {
   "cell_type": "code",
   "execution_count": null,
   "metadata": {},
   "outputs": [],
   "source": [
    "# 로지스틱 회귀의 방정식은\n",
    "z = -0.404*(Weight) -0.576*(Length) -0.662*(Diagonal) -1.012*(Height) -0.732*(Width) -2.161"
   ]
  },
  {
   "cell_type": "code",
   "execution_count": 28,
   "metadata": {},
   "outputs": [
    {
     "name": "stdout",
     "output_type": "stream",
     "text": [
      "[-6.02927744  3.57123907 -5.26568906 -4.24321775 -6.0607117 ]\n"
     ]
    }
   ],
   "source": [
    "# 로지스틱 모델로 z값 계산하기\n",
    "# LogisticRegression class는 decision_function() 메서드로 z 값을 출력할 수 있음.\n",
    "\n",
    "# train_bream_smelt의 처음 5개 샘플의 z값 출력하기\n",
    "\n",
    "decisions = lr.decision_function(train_bream_smelt[:5])\n",
    "print(decisions)"
   ]
  },
  {
   "cell_type": "code",
   "execution_count": 29,
   "metadata": {},
   "outputs": [
    {
     "name": "stdout",
     "output_type": "stream",
     "text": [
      "[0.00240145 0.97264817 0.00513928 0.01415798 0.00232731]\n"
     ]
    }
   ],
   "source": [
    "# 구해진 z값을 시그모이드 함수에 통과시키면 확률을 얻을 수 있음\n",
    "# 파이썬 사이파이 scipy 라이브러리 = expit() 시그모이드 함수\n",
    "# np.exp()함수를 사용해 분수계산을 하는 것보다 편리하고 안전\n",
    "\n",
    "# decisions 배열의 값을 확률로 변환\n",
    "from scipy.special import expit\n",
    "print(expit(decisions))\n",
    "\n",
    "# predict_proba() 메서드의 출력의 두번쨰 열의 값과 동일."
   ]
  },
  {
   "cell_type": "markdown",
   "metadata": {},
   "source": [
    "로지스틱 회귀로 다중 분류 수행하기"
   ]
  },
  {
   "cell_type": "code",
   "execution_count": null,
   "metadata": {},
   "outputs": [],
   "source": [
    "# LogisticRegression은 기본적으로 반복적인 알고리즘 사용.\n",
    "#   max_iter 매개변수에서 반복 횟수를 지정하며 기본값은 100\n",
    "\n",
    "#   여기에 준비한 데이터셋을 사용해 모델을 훈련하면 반복 횟수가 부족하다는 경고 발생 >> 반복횟수 1000으로 늘림\n",
    "\n",
    "#   LogisticRegression은 기본적으로 릿지 회귀와 같이 계수의 제곱을 규제함. \n",
    "#   ** L2 규제 = 계수의 제곱을 규제하는 것.\n",
    "#   ** 릿지 회귀 규제 매개변수 == alpha\n",
    "#   ** LogisticRegression 규제 매개변수 == C , 기본값 == 1  >>> 규제 완화를 위해 20으로 늘림"
   ]
  },
  {
   "cell_type": "code",
   "execution_count": 33,
   "metadata": {},
   "outputs": [
    {
     "name": "stdout",
     "output_type": "stream",
     "text": [
      "0.9327731092436975\n",
      "0.925\n"
     ]
    }
   ],
   "source": [
    "#  LogisticRegression 클래스로 다중 분류 모델을 훈련하는 코드\n",
    "from sklearn.linear_model import LogisticRegression\n",
    "lr = LogisticRegression(C=20, max_iter=1000)\n",
    "lr.fit(train_scaled, train_target)\n",
    "print(lr.score(train_scaled, train_target))\n",
    "print(lr.score(test_scaled, test_target))"
   ]
  },
  {
   "cell_type": "code",
   "execution_count": 34,
   "metadata": {},
   "outputs": [
    {
     "name": "stdout",
     "output_type": "stream",
     "text": [
      "['Perch' 'Smelt' 'Pike' 'Roach' 'Perch']\n"
     ]
    }
   ],
   "source": [
    "# 테스트 세트 처음 5개 샘플 예측\n",
    "print(lr.predict(test_scaled[:5]))"
   ]
  },
  {
   "cell_type": "code",
   "execution_count": 35,
   "metadata": {},
   "outputs": [
    {
     "name": "stdout",
     "output_type": "stream",
     "text": [
      "[[1.15680202e-05 1.29286759e-02 8.01951840e-01 2.65016957e-04\n",
      "  1.77521049e-01 3.09331615e-03 4.22853443e-03]\n",
      " [1.27304280e-07 2.07007870e-02 1.48138849e-01 8.50714992e-05\n",
      "  5.44391542e-02 7.76560529e-01 7.54818963e-05]\n",
      " [3.10136813e-05 3.39537439e-06 4.93150106e-02 9.19079738e-01\n",
      "  2.14173406e-02 1.00959000e-02 5.76013633e-05]\n",
      " [4.84093127e-03 1.21519840e-02 3.99853682e-01 6.74414552e-03\n",
      "  5.15786270e-01 6.24430486e-05 6.05605444e-02]\n",
      " [7.65771794e-06 4.04809442e-04 8.79403618e-01 2.17312051e-03\n",
      "  1.14550508e-01 1.31947482e-03 2.14081128e-03]]\n"
     ]
    }
   ],
   "source": [
    "# 테스트 세트 처음 5새 샘플에 대한 확률\n",
    "print(lr.predict_proba(test_scaled[:5]))"
   ]
  },
  {
   "cell_type": "code",
   "execution_count": 38,
   "metadata": {},
   "outputs": [
    {
     "name": "stdout",
     "output_type": "stream",
     "text": [
      "[[0.    0.013 0.802 0.    0.178 0.003 0.004]\n",
      " [0.    0.021 0.148 0.    0.054 0.777 0.   ]\n",
      " [0.    0.    0.049 0.919 0.021 0.01  0.   ]\n",
      " [0.005 0.012 0.4   0.007 0.516 0.    0.061]\n",
      " [0.    0.    0.879 0.002 0.115 0.001 0.002]]\n"
     ]
    }
   ],
   "source": [
    "proba = lr.predict_proba(test_scaled[:5])\n",
    "print(np.round(proba, decimals=3))"
   ]
  },
  {
   "cell_type": "code",
   "execution_count": 39,
   "metadata": {},
   "outputs": [
    {
     "name": "stdout",
     "output_type": "stream",
     "text": [
      "['Bream' 'Parkki' 'Perch' 'Pike' 'Roach' 'Smelt' 'Whitefish']\n"
     ]
    }
   ],
   "source": [
    "# 각 열 정보\n",
    "print(lr.classes_)"
   ]
  },
  {
   "cell_type": "code",
   "execution_count": 40,
   "metadata": {},
   "outputs": [
    {
     "name": "stdout",
     "output_type": "stream",
     "text": [
      "(7, 5) (7,)\n"
     ]
    }
   ],
   "source": [
    "# 다중 분류의 선형 방정식\n",
    "\n",
    "# coef_, intercept_ 크기 출력\n",
    "print(lr.coef_.shape, lr.intercept_.shape)\n",
    "# 다섯개의 특성을 사용함.\n",
    "# 7행의 의미 = 7개의 z를 계산한다는 뜻. > 가장 높은 z값을 출력하는 클래스가 예측 클래스가 됨."
   ]
  },
  {
   "cell_type": "code",
   "execution_count": null,
   "metadata": {},
   "outputs": [],
   "source": [
    "# 확률 계산 방법\n",
    "# 이진 분류에서는 시그모이드 함수를 이용해 z를 0과 1사이의 값으로 변환함.\n",
    "# 다중 분류는 ** 소프트 맥스(softmax) ** 함수를 사용하여 7개의 z 값을 확률로 반환\n",
    "\n",
    "\n",
    "\n",
    "## 소프트 맥스 함수란??\n",
    "\n",
    "# 여러 개의 선형 방정식의 출력값을 0~1사이로 압축하고 전체 합이 1이 되도록 만듦.\n",
    "# 이를 위해 지수 함수를 사용하기 떄문에 ** 정규화된 지수함수 ** 라고도 부름"
   ]
  },
  {
   "cell_type": "code",
   "execution_count": null,
   "metadata": {},
   "outputs": [],
   "source": [
    "# 소프트 맥스 함수 계산 법\n",
    "\n",
    "# 각 z를 z1~z7이라고 할때 , e^z1 ~ e^z7을 모두 더하고 이를 == e_sum\n",
    "# 각 e^z1 ~ e^z7를 e_sum으로 나누어 주면 됨.== s1 ~ s7\n",
    "\n",
    "# s1 ~ s7 값을 모두 더하면 분자와 분모가 같아지므로 1이 됨. \n",
    "# >> 7개 생선에 대한 확률의 합이 1이 되어야 함."
   ]
  },
  {
   "cell_type": "code",
   "execution_count": 41,
   "metadata": {},
   "outputs": [
    {
     "name": "stdout",
     "output_type": "stream",
     "text": [
      "[[-6.06  0.96  5.09 -2.93  3.58 -0.47 -0.16]\n",
      " [-9.64  2.36  4.33 -3.13  3.33  5.99 -3.25]\n",
      " [-4.06 -6.27  3.31  6.24  2.48  1.73 -3.44]\n",
      " [-1.22 -0.3   3.2  -0.88  3.45 -5.57  1.31]\n",
      " [-5.95 -1.98  5.7  -0.3   3.66 -0.8  -0.32]]\n"
     ]
    }
   ],
   "source": [
    "# decision_function() 메서드로 z1~ z7값 구한 다음 소프트맥스 함수를 사용해 확률로 바꾸기\n",
    "\n",
    "decision = lr.decision_function(test_scaled[:5])\n",
    "print(np.round(decision, decimals=2))"
   ]
  },
  {
   "cell_type": "code",
   "execution_count": 43,
   "metadata": {},
   "outputs": [
    {
     "name": "stdout",
     "output_type": "stream",
     "text": [
      "[[0.    0.013 0.802 0.    0.178 0.003 0.004]\n",
      " [0.    0.021 0.148 0.    0.054 0.777 0.   ]\n",
      " [0.    0.    0.049 0.919 0.021 0.01  0.   ]\n",
      " [0.005 0.012 0.4   0.007 0.516 0.    0.061]\n",
      " [0.    0.    0.879 0.002 0.115 0.001 0.002]]\n"
     ]
    }
   ],
   "source": [
    "# decision배열을 softmax() 함수에 전달.\n",
    "# softmax()의 axis= 매개변수는 소프트 맥스를 계산할 축을 지정.\n",
    "\n",
    "from scipy.special import softmax\n",
    "proba = softmax(decision,axis=1)\n",
    "print(np.round(proba, decimals=3))"
   ]
  },
  {
   "cell_type": "code",
   "execution_count": null,
   "metadata": {},
   "outputs": [],
   "source": []
  },
  {
   "cell_type": "markdown",
   "metadata": {},
   "source": [
    "전체 코드 실행해보기"
   ]
  },
  {
   "cell_type": "code",
   "execution_count": 44,
   "metadata": {},
   "outputs": [
    {
     "data": {
      "text/html": [
       "<div>\n",
       "<style scoped>\n",
       "    .dataframe tbody tr th:only-of-type {\n",
       "        vertical-align: middle;\n",
       "    }\n",
       "\n",
       "    .dataframe tbody tr th {\n",
       "        vertical-align: top;\n",
       "    }\n",
       "\n",
       "    .dataframe thead th {\n",
       "        text-align: right;\n",
       "    }\n",
       "</style>\n",
       "<table border=\"1\" class=\"dataframe\">\n",
       "  <thead>\n",
       "    <tr style=\"text-align: right;\">\n",
       "      <th></th>\n",
       "      <th>Species</th>\n",
       "      <th>Weight</th>\n",
       "      <th>Length</th>\n",
       "      <th>Diagonal</th>\n",
       "      <th>Height</th>\n",
       "      <th>Width</th>\n",
       "    </tr>\n",
       "  </thead>\n",
       "  <tbody>\n",
       "    <tr>\n",
       "      <th>0</th>\n",
       "      <td>Bream</td>\n",
       "      <td>242.0</td>\n",
       "      <td>25.4</td>\n",
       "      <td>30.0</td>\n",
       "      <td>11.5200</td>\n",
       "      <td>4.0200</td>\n",
       "    </tr>\n",
       "    <tr>\n",
       "      <th>1</th>\n",
       "      <td>Bream</td>\n",
       "      <td>290.0</td>\n",
       "      <td>26.3</td>\n",
       "      <td>31.2</td>\n",
       "      <td>12.4800</td>\n",
       "      <td>4.3056</td>\n",
       "    </tr>\n",
       "    <tr>\n",
       "      <th>2</th>\n",
       "      <td>Bream</td>\n",
       "      <td>340.0</td>\n",
       "      <td>26.5</td>\n",
       "      <td>31.1</td>\n",
       "      <td>12.3778</td>\n",
       "      <td>4.6961</td>\n",
       "    </tr>\n",
       "    <tr>\n",
       "      <th>3</th>\n",
       "      <td>Bream</td>\n",
       "      <td>363.0</td>\n",
       "      <td>29.0</td>\n",
       "      <td>33.5</td>\n",
       "      <td>12.7300</td>\n",
       "      <td>4.4555</td>\n",
       "    </tr>\n",
       "    <tr>\n",
       "      <th>4</th>\n",
       "      <td>Bream</td>\n",
       "      <td>430.0</td>\n",
       "      <td>29.0</td>\n",
       "      <td>34.0</td>\n",
       "      <td>12.4440</td>\n",
       "      <td>5.1340</td>\n",
       "    </tr>\n",
       "  </tbody>\n",
       "</table>\n",
       "</div>"
      ],
      "text/plain": [
       "  Species  Weight  Length  Diagonal   Height   Width\n",
       "0   Bream   242.0    25.4      30.0  11.5200  4.0200\n",
       "1   Bream   290.0    26.3      31.2  12.4800  4.3056\n",
       "2   Bream   340.0    26.5      31.1  12.3778  4.6961\n",
       "3   Bream   363.0    29.0      33.5  12.7300  4.4555\n",
       "4   Bream   430.0    29.0      34.0  12.4440  5.1340"
      ]
     },
     "execution_count": 44,
     "metadata": {},
     "output_type": "execute_result"
    }
   ],
   "source": [
    "# 데이터 불러오기\n",
    "import pandas as pd\n",
    "fish = pd.read_csv('http://bit.ly/fish_csv_data')\n",
    "fish.head()"
   ]
  },
  {
   "cell_type": "code",
   "execution_count": 46,
   "metadata": {},
   "outputs": [
    {
     "name": "stdout",
     "output_type": "stream",
     "text": [
      "['Bream' 'Roach' 'Whitefish' 'Parkki' 'Perch' 'Pike' 'Smelt']\n"
     ]
    }
   ],
   "source": [
    "# 생선 종류 불러오기\n",
    "print(pd.unique(fish['Species']))"
   ]
  },
  {
   "cell_type": "code",
   "execution_count": 47,
   "metadata": {},
   "outputs": [],
   "source": [
    "# 종류를 타깃으로 만들고 나머지 값을 train 만드는 배열 생성\n",
    "\n",
    "fish_input = fish[['Weight','Length','Diagonal','Height','Width']].to_numpy()\n",
    "fish_target = fish['Species'].to_numpy()"
   ]
  },
  {
   "cell_type": "code",
   "execution_count": 48,
   "metadata": {},
   "outputs": [],
   "source": [
    "# 데이터 나누기\n",
    "\n",
    "from sklearn.model_selection import train_test_split\n",
    "train_input, test_input, train_target, test_target = train_test_split(fish_input, fish_target)"
   ]
  },
  {
   "cell_type": "code",
   "execution_count": 49,
   "metadata": {},
   "outputs": [],
   "source": [
    "# 나눈 데이터 표준화 전처리 해주기.\n",
    "from sklearn.preprocessing import StandardScaler\n",
    "ss = StandardScaler()\n",
    "train_scaled = ss.fit_transform(train_input)\n",
    "test_scaled = ss.fit_transform(test_input)"
   ]
  },
  {
   "cell_type": "code",
   "execution_count": 51,
   "metadata": {},
   "outputs": [
    {
     "name": "stdout",
     "output_type": "stream",
     "text": [
      "0.865546218487395\n",
      "0.8\n",
      "['Smelt' 'Bream' 'Whitefish' 'Pike' 'Perch']\n",
      "[[0.     0.     0.     0.     0.     1.     0.    ]\n",
      " [1.     0.     0.     0.     0.     0.     0.    ]\n",
      " [0.     0.     0.3333 0.     0.     0.     0.6667]\n",
      " [0.     0.     0.     1.     0.     0.     0.    ]\n",
      " [0.     0.     1.     0.     0.     0.     0.    ]]\n"
     ]
    },
    {
     "name": "stderr",
     "output_type": "stream",
     "text": [
      "c:\\Users\\user\\anaconda3\\lib\\site-packages\\sklearn\\neighbors\\_classification.py:228: FutureWarning: Unlike other reduction functions (e.g. `skew`, `kurtosis`), the default behavior of `mode` typically preserves the axis it acts along. In SciPy 1.11.0, this behavior will change: the default value of `keepdims` will become False, the `axis` over which the statistic is taken will be eliminated, and the value None will no longer be accepted. Set `keepdims` to True or False to avoid this warning.\n",
      "  mode, _ = stats.mode(_y[neigh_ind, k], axis=1)\n",
      "c:\\Users\\user\\anaconda3\\lib\\site-packages\\sklearn\\neighbors\\_classification.py:228: FutureWarning: Unlike other reduction functions (e.g. `skew`, `kurtosis`), the default behavior of `mode` typically preserves the axis it acts along. In SciPy 1.11.0, this behavior will change: the default value of `keepdims` will become False, the `axis` over which the statistic is taken will be eliminated, and the value None will no longer be accepted. Set `keepdims` to True or False to avoid this warning.\n",
      "  mode, _ = stats.mode(_y[neigh_ind, k], axis=1)\n",
      "c:\\Users\\user\\anaconda3\\lib\\site-packages\\sklearn\\neighbors\\_classification.py:228: FutureWarning: Unlike other reduction functions (e.g. `skew`, `kurtosis`), the default behavior of `mode` typically preserves the axis it acts along. In SciPy 1.11.0, this behavior will change: the default value of `keepdims` will become False, the `axis` over which the statistic is taken will be eliminated, and the value None will no longer be accepted. Set `keepdims` to True or False to avoid this warning.\n",
      "  mode, _ = stats.mode(_y[neigh_ind, k], axis=1)\n"
     ]
    }
   ],
   "source": [
    "# k-최근접 이웃 분류로 확률 예측하기\n",
    "from sklearn.neighbors import KNeighborsClassifier\n",
    "kn = KNeighborsClassifier(n_neighbors=3)\n",
    "kn.fit(train_scaled, train_target)\n",
    "print(kn.score(train_scaled, train_target))\n",
    "print(kn.score(test_scaled, test_target))\n",
    "print(kn.predict(test_scaled[:5]))\n",
    "proba = kn.predict_proba(test_scaled[:5])\n",
    "print(np.round(proba,decimals=4))"
   ]
  },
  {
   "cell_type": "code",
   "execution_count": null,
   "metadata": {},
   "outputs": [],
   "source": [
    "#  로지스틱 회귀 이용하기"
   ]
  },
  {
   "cell_type": "code",
   "execution_count": 52,
   "metadata": {},
   "outputs": [
    {
     "name": "stdout",
     "output_type": "stream",
     "text": [
      "['Bream' 'Bream' 'Bream' 'Bream' 'Bream']\n",
      "[[0.99727765 0.00272235]\n",
      " [0.99473817 0.00526183]\n",
      " [0.96333262 0.03666738]\n",
      " [0.95106712 0.04893288]\n",
      " [0.99527762 0.00472238]]\n",
      "['Bream' 'Smelt']\n"
     ]
    }
   ],
   "source": [
    "# 이중 로지스틱 회귀.\n",
    "bream_smelt_indexes = (train_target == 'Bream') | (train_target == 'Smelt')\n",
    "train_bream_smelt = train_scaled[bream_smelt_indexes]\n",
    "target_bream_smelt = train_target[bream_smelt_indexes]\n",
    "\n",
    "from sklearn.linear_model import LogisticRegression\n",
    "lr = LogisticRegression()\n",
    "lr.fit(train_bream_smelt, target_bream_smelt)\n",
    "print(lr.predict(train_bream_smelt[:5]))\n",
    "print(lr.predict_proba(train_bream_smelt[:5]))\n",
    "print(lr.classes_)"
   ]
  },
  {
   "cell_type": "code",
   "execution_count": 54,
   "metadata": {},
   "outputs": [
    {
     "name": "stdout",
     "output_type": "stream",
     "text": [
      "[-5.90353399 -5.24200023 -3.26851114 -2.96713517 -5.35070776]\n"
     ]
    }
   ],
   "source": [
    "decisions = lr.decision_function(train_bream_smelt[:5])\n",
    "print(decisions)\n",
    "\n",
    "# z값"
   ]
  },
  {
   "cell_type": "code",
   "execution_count": 55,
   "metadata": {},
   "outputs": [
    {
     "name": "stdout",
     "output_type": "stream",
     "text": [
      "[[2.32704357e-03 7.22747591e-01 9.93853656e-01 5.07251027e-02\n",
      "  9.72821467e-01 3.84125864e-01 4.60219112e-01]\n",
      " [6.53880744e-05 9.14040363e-01 9.87028896e-01 4.18690307e-02\n",
      "  9.65474076e-01 9.97499347e-01 3.73255479e-02]\n",
      " [1.70081855e-02 1.89069092e-03 9.64927962e-01 9.98053538e-01\n",
      "  9.22772113e-01 8.49226878e-01 3.11351336e-02]\n",
      " [2.28679971e-01 4.26683715e-01 9.60766926e-01 2.92305675e-01\n",
      "  9.69314697e-01 3.80970202e-03 7.87639741e-01]\n",
      " [2.59434983e-03 1.20880413e-01 9.96663409e-01 4.24673711e-01\n",
      "  9.74943237e-01 3.09481047e-01 4.21018073e-01]]\n"
     ]
    }
   ],
   "source": [
    "# expit함수에 넣기\n",
    "\n",
    "from scipy.special import expit\n",
    "print(expit(decision))"
   ]
  },
  {
   "cell_type": "code",
   "execution_count": null,
   "metadata": {},
   "outputs": [],
   "source": [
    "# 다중 로지스틱 회귀 분류 수행"
   ]
  },
  {
   "cell_type": "code",
   "execution_count": 56,
   "metadata": {},
   "outputs": [
    {
     "name": "stdout",
     "output_type": "stream",
     "text": [
      "0.9243697478991597\n",
      "0.8\n",
      "['Smelt' 'Bream' 'Roach' 'Pike' 'Perch']\n",
      "[[0.    0.001 0.157 0.    0.02  0.821 0.   ]\n",
      " [0.989 0.01  0.    0.    0.    0.    0.001]\n",
      " [0.009 0.015 0.214 0.027 0.597 0.001 0.137]\n",
      " [0.    0.    0.004 0.995 0.001 0.    0.   ]\n",
      " [0.    0.004 0.735 0.005 0.222 0.002 0.032]]\n",
      "['Bream' 'Parkki' 'Perch' 'Pike' 'Roach' 'Smelt' 'Whitefish']\n"
     ]
    }
   ],
   "source": [
    "lr = LogisticRegression(C=20, max_iter=1000)\n",
    "lr.fit(train_scaled, train_target)\n",
    "print(lr.score(train_scaled, train_target))\n",
    "print(lr.score(test_scaled, test_target))\n",
    "print(lr.predict(test_scaled[:5]))\n",
    "proba = lr.predict_proba(test_scaled[:5])\n",
    "print(np.round(proba, decimals=3))\n",
    "\n",
    "print(lr.classes_)"
   ]
  },
  {
   "cell_type": "code",
   "execution_count": 58,
   "metadata": {},
   "outputs": [
    {
     "name": "stdout",
     "output_type": "stream",
     "text": [
      "[[-11.05  -0.06   4.84  -1.6    2.76   6.49  -1.38]\n",
      " [ 12.24   7.62  -6.28  -4.82   2.07 -16.29   5.45]\n",
      " [ -1.29  -0.82   1.87  -0.19   2.89  -3.89   1.42]\n",
      " [ -2.1   -8.06   2.75   8.33   1.02  -1.02  -0.92]\n",
      " [ -4.4   -1.17   4.12  -0.78   2.93  -1.67   0.97]]\n"
     ]
    }
   ],
   "source": [
    "decisions = lr.decision_function(test_scaled[:5])\n",
    "print(np.round(decisions, decimals=2)) #z값"
   ]
  },
  {
   "cell_type": "code",
   "execution_count": 59,
   "metadata": {},
   "outputs": [
    {
     "name": "stdout",
     "output_type": "stream",
     "text": [
      "[[0.    0.001 0.157 0.    0.02  0.821 0.   ]\n",
      " [0.989 0.01  0.    0.    0.    0.    0.001]\n",
      " [0.009 0.015 0.214 0.027 0.597 0.001 0.137]\n",
      " [0.    0.    0.004 0.995 0.001 0.    0.   ]\n",
      " [0.    0.004 0.735 0.005 0.222 0.002 0.032]]\n"
     ]
    }
   ],
   "source": [
    "from scipy.special import softmax\n",
    "proba = softmax(decisions, axis=1)\n",
    "print(np.round(proba, decimals=3))"
   ]
  },
  {
   "cell_type": "code",
   "execution_count": null,
   "metadata": {},
   "outputs": [],
   "source": []
  },
  {
   "cell_type": "code",
   "execution_count": null,
   "metadata": {},
   "outputs": [],
   "source": []
  },
  {
   "cell_type": "code",
   "execution_count": null,
   "metadata": {},
   "outputs": [],
   "source": [
    "# ** 키워드 핵심 **\n",
    "\n",
    "# ** 로지스틱 회귀 : 선형 방정식을 사용한 분류 알고리즘\n",
    "#   선형 회귀와 달리 시그모이드 함수나 소프트 맥스 함수를 사용하여 클래스 확률을 출력할 수 있음.\n",
    "\n",
    "# ** 다중 분류 : 타깃 클래스가 2개 이상인 분류 문제\n",
    "#   로지스틱 회귀는 다중 분류를 위해 소프트 맥스 함수를 사용하여 클래스를 예측\n",
    "\n",
    "# ** 시그모이드 함수 :  선형 방정식의 출력을 0과 1사이의 값으로 압축하며\n",
    "#   이진 분류를 위해 사용함\n",
    "\n",
    "# ** 소프트맥스 함수 : 다중 분류에서 여러 선형 방정식의 출력 결과를 정규화하여 합이 1이 되도록 만듦"
   ]
  },
  {
   "cell_type": "code",
   "execution_count": null,
   "metadata": {},
   "outputs": [],
   "source": [
    "# ** 패키지 함수 **\n",
    "\n",
    "# ** scikit-learn\n",
    "#   * LogisticRegression : 선형 분류 알고리즘인 로지스틱 회귀를 위한 클래스\n",
    "#    * slover 매개변수에서 사용할 알고리즘을 선택할 수 있음.\n",
    "#      기본값은 1bfgs..? \n",
    "#    * penaly 매개변수에서 L2 규제(릿지 방식)와 L1 규제(라쏘 방식)를 선택할 수 있음.\n",
    "#      기본값은 L2 규제를 의미하는 l2\n",
    "#    * C 매개변수에서 규제의 강도 제어 기본값 == 1, 값이 작을 수록 규제가 강해짐\n",
    "\n",
    "#    * predict_proba() 메서드는 예측 확률 반환\n",
    "#      이진 분류의 경우에는 샘플마다 음성 클래스와 양성 클래스에 대한 확률 반환\n",
    "#      다중 분류의 경우에는 샘플마다 모든 클래스에 대한 확률 반환\n",
    "\n",
    "#    * decision_function() : 모델이 학습한 선형 방정식의 출력 반환\n",
    "#      이진 분류의 경우 양성 클래스의 확률 반환\n",
    "#      다중 분류의 경우 각 클래스마다 선형 방정식 계산하여 가장 큰 값의 클래스가 예측 클래스가 됨."
   ]
  },
  {
   "cell_type": "code",
   "execution_count": null,
   "metadata": {},
   "outputs": [],
   "source": []
  },
  {
   "cell_type": "markdown",
   "metadata": {},
   "source": [
    "확인 문제"
   ]
  },
  {
   "cell_type": "code",
   "execution_count": null,
   "metadata": {},
   "outputs": [],
   "source": [
    "1. 2개보다 많은 클래스가 있는 분류 문제?\n",
    "\n",
    "1. 이진 분류 = 2개\n",
    "2. 다중 분류 = 여러개\n",
    "3. 단변량 회귀 = 하나의 출력을 예측하는 회귀 문제\n",
    "4. 다변량 회귀 = 여러 개의 출력을 예측하는 회귀 문제"
   ]
  },
  {
   "cell_type": "code",
   "execution_count": null,
   "metadata": {},
   "outputs": [],
   "source": [
    "2. 로지스틱 회귀가 이진 분류에서 확률을 출력하기 위해 사용하는 함수?\n",
    "\n",
    "1. 시그모이드 함수 > 선형 방정식의 결과를 0~1 사이의 값으로 압축하여 확률로 해석\n",
    "2. 소프트맥스 함수 > 다중 분류 > 다중 분류에서 확률을 출력하기 위해 사용\n",
    "3. 로그 함수\n",
    "4. 지수 함수"
   ]
  },
  {
   "cell_type": "code",
   "execution_count": null,
   "metadata": {},
   "outputs": [],
   "source": [
    "3. decision_function() 메서드의 출력이 0일 때 시그모이드 함수의 값은?\n",
    "0.5"
   ]
  }
 ],
 "metadata": {
  "kernelspec": {
   "display_name": "base",
   "language": "python",
   "name": "python3"
  },
  "language_info": {
   "codemirror_mode": {
    "name": "ipython",
    "version": 3
   },
   "file_extension": ".py",
   "mimetype": "text/x-python",
   "name": "python",
   "nbconvert_exporter": "python",
   "pygments_lexer": "ipython3",
   "version": "3.9.13 (main, Aug 25 2022, 23:51:50) [MSC v.1916 64 bit (AMD64)]"
  },
  "orig_nbformat": 4,
  "vscode": {
   "interpreter": {
    "hash": "a077222d77dfe082b8f1dd562ad70e458ac2ab76993a0b248ab0476e32e9e8dd"
   }
  }
 },
 "nbformat": 4,
 "nbformat_minor": 2
}
