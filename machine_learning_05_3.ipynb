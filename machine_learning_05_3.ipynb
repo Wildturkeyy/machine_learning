{
 "cells": [
  {
   "cell_type": "markdown",
   "metadata": {},
   "source": [
    "트리의 앙상블"
   ]
  },
  {
   "attachments": {},
   "cell_type": "markdown",
   "metadata": {},
   "source": [
    "- 정형 데이터(structured data): 어떤 구조로 되어 있음. csv, excel에 저장하기 쉬움.\n",
    "- 비정형 데이터(untructured data): DB나 엑셀로 표현하기 어려운 것들. / 텍스트 데이터, 사진, 음악 등\n",
    "\n",
    "- 그 동안 배운 머신러닝 알고리즘 : 정형 데이터에 잘 맞음\n",
    "-  앙상블 학습(ensemble learning) = 정형 데이터를 다루는 데 가장 뛰어난 상과를 내는 알고리즘.\n"
   ]
  },
  {
   "attachments": {},
   "cell_type": "markdown",
   "metadata": {},
   "source": [
    "랜덤 포레스트(Random Forest)\n",
    "\n",
    "- 앙상블 학습의 대표 주자 중 하나\n",
    "- 안정적인 성능 덕분에 널리 사용됨.\n",
    "\n",
    "- 결정 트리를 랜덤하게 만들어 결정 트리(나무)의 숲을 만듦.\n",
    "- 그리고 각 결정 트리의 예측을 사용해 최종 예측을 만듦."
   ]
  },
  {
   "cell_type": "code",
   "execution_count": null,
   "metadata": {},
   "outputs": [],
   "source": [
    "# 랜덤 포레스트는 각 트리를 훈련하기 위한 데이터를 랜덤하게 만듦.\n",
    "# 입력한 훈련 데이터에서 랜덤하게 샘플 추출하여 훈련 데이터 만듦.\n",
    "# 이때 한 샘플이 중복되어 추출될 수도 있음."
   ]
  },
  {
   "cell_type": "markdown",
   "metadata": {},
   "source": [
    "부트스트랩 샘플 bootstrap sample\n",
    "- 중복된 값도 뽑아내는 샘플 방식\n",
    "- 노드 분할 때 전체 특성 중 일부 특성을 무작위로 고른 다음 이 중 최선의 분할을 찾음\n",
    "- 분류 모델인 RandomForestClassifier는 기본적으로 전체 특성 개수를 \n",
    " 제곱근만큼의 특성 선택 (4개의 특성이 있다면 노드마다 2개를 랜덤하게 선택해 사용)\n",
    "- 회귀 모델인 RandomForestRegressor는 전체 특성을 사용"
   ]
  },
  {
   "cell_type": "code",
   "execution_count": null,
   "metadata": {},
   "outputs": [],
   "source": [
    "# 사이킷 런의 랜덤 포레스트는 기본적으로 100개의 결정 트리를 이런 방식으로 훈련함.\n",
    "# 그 다음 분류일 때는 각 트리의 클래스별 확률을 평균하여 가장 높은 확률을 가진 클래스를 예측으로 삼음.\n",
    "# 회귀일 때는 단순히 각 트리의 예측 평균"
   ]
  },
  {
   "cell_type": "code",
   "execution_count": null,
   "metadata": {},
   "outputs": [],
   "source": [
    "# 랜덤 포레스트\n",
    "\n",
    "# 랜덤하게 선택한 샘플과 특성 사용\n",
    "# >> 훈련 세트에 과대적합되는 것을 막아주고 검증 세으톼 테스트 세트에서 안정적인 성능을 얻을 수 있음\n",
    "# >> 기본 매개변수 설정 만으로도 아주 좋은 결과를 냄."
   ]
  },
  {
   "cell_type": "code",
   "execution_count": 1,
   "metadata": {},
   "outputs": [],
   "source": [
    "# 사이킷런 RandomForestClassifier 클래스를 화이트 와인을 분류하는 문제에 적용해보기.\n",
    "\n",
    "import pandas as pd\n",
    "import numpy as np\n",
    "from sklearn.model_selection import train_test_split\n",
    "\n",
    "wine = pd.read_csv('https://bit.ly/wine_csv_data')\n",
    "data = wine[['alcohol','sugar','pH']].to_numpy()\n",
    "target = wine['class'].to_numpy()\n",
    "train_input, test_input, train_target, test_target = train_test_split(data, target, test_size=0.2, random_state=42)"
   ]
  },
  {
   "cell_type": "code",
   "execution_count": 2,
   "metadata": {},
   "outputs": [
    {
     "data": {
      "text/plain": [
       "{'fit_time': array([0.26408887, 0.26684809, 0.25736117, 0.2770803 , 0.26865244]),\n",
       " 'score_time': array([0.03565931, 0.04060221, 0.03321886, 0.0431931 , 0.03916502]),\n",
       " 'test_score': array([0.88461538, 0.88942308, 0.90279115, 0.88931665, 0.88642926]),\n",
       " 'train_score': array([0.9971133 , 0.99663219, 0.9978355 , 0.9973545 , 0.9978355 ])}"
      ]
     },
     "execution_count": 2,
     "metadata": {},
     "output_type": "execute_result"
    }
   ],
   "source": [
    "# cross_validate() 이요해 교차검증 수행하기 \n",
    "# return_train_score= True, 검증 점수 뿐 아니라 훈련 세트에 대한 점수도 반환\n",
    "# 과대적합을 파악하기 용이.\n",
    "\n",
    "from sklearn.model_selection import cross_validate\n",
    "from sklearn.ensemble import RandomForestClassifier\n",
    "rf = RandomForestClassifier(n_jobs=-1, random_state=42)\n",
    "scores = cross_validate(rf, train_input, train_target, return_train_score=True, n_jobs=-1)\n",
    "scores"
   ]
  },
  {
   "cell_type": "code",
   "execution_count": 3,
   "metadata": {},
   "outputs": [
    {
     "name": "stdout",
     "output_type": "stream",
     "text": [
      "0.9973541965122431 0.8905151032797809\n"
     ]
    }
   ],
   "source": [
    "print(np.mean(scores['train_score']), np.mean(scores['test_score']))\n",
    "# 훈련 세트에 다소 과대적합된 것으로 보임."
   ]
  },
  {
   "cell_type": "code",
   "execution_count": 4,
   "metadata": {},
   "outputs": [
    {
     "name": "stdout",
     "output_type": "stream",
     "text": [
      "[0.23167441 0.50039841 0.26792718]\n"
     ]
    }
   ],
   "source": [
    "rf.fit(train_input,train_target)\n",
    "print(rf.feature_importances_)"
   ]
  },
  {
   "cell_type": "code",
   "execution_count": null,
   "metadata": {},
   "outputs": [],
   "source": [
    "# 이전 결정트리에서 특성 중요도는 당도에서 매우 높았는데 \n",
    "# 이번에는 다른 특성들의 중요도가 상승함.\n",
    "# >> 랜덤 포레스트는 특성의 일부를 랜덤하게 선택하여 결정트리를 훈련함\n",
    "# >> 그 결과하나의 특성에 과도하게 집중하지 않고 좀 더 많은 튻어이 훈련에 기여할 기회를 얻음\n",
    "# >> 과대적합을 줄이고 일반화 성능을 높이는데 도움이 됨."
   ]
  },
  {
   "cell_type": "markdown",
   "metadata": {},
   "source": [
    "RandomForestClassifier의 기능 : 자체적으로 모델을 평가하는 점수를 얻을 수 있음.\n",
    "\n",
    "- 랜덤 포레스트는 훈련 세트에서 중복을 허용/ 부트스트랩 샘플을 만들어 결정트리 훈련\n",
    "- 이때 부트스트랩 샘플에 포함되지 않고 남는 샘플 == OOB (out of bag)\n",
    "- OOB를 사용하여 부트스트랩 샘플로 훈련한 결정트리 평가 >> 검증세트 역할\n",
    "\n",
    "- 이 점수를 얻기 위해서 oob_score 매개변수 =True 지정해야함. 기본값 ==False\n",
    "- oob_score = True, 각 결정 트리의 OOB 점수를 평균하여 출력"
   ]
  },
  {
   "cell_type": "code",
   "execution_count": 6,
   "metadata": {},
   "outputs": [
    {
     "name": "stdout",
     "output_type": "stream",
     "text": [
      "0.8934000384837406\n"
     ]
    }
   ],
   "source": [
    "rf = RandomForestClassifier(oob_score=True, n_jobs=-1, random_state=42)\n",
    "rf.fit(train_input, train_target)\n",
    "print(rf.oob_score_)"
   ]
  },
  {
   "cell_type": "code",
   "execution_count": null,
   "metadata": {},
   "outputs": [],
   "source": []
  },
  {
   "cell_type": "markdown",
   "metadata": {},
   "source": [
    "엑스트라 트리(extra tree)\n",
    "\n",
    "- 랜덤 포레스트와 비슷하게 동장\n",
    "- 차이점 : 부트스트랩을 사용하지 않음 >> 결정 트리를 만들 때 전체 훈련 세트를 사용\n",
    "- 대신 노드 분할할 때 가장 좋은 분할을 찾지 않고 무작위로 분할함.\n",
    "- 엑스트라 트리가 사용하는 결정 트리가 DecisionTreeClassifier 의 spliter매개변수를 'random'으로 지정한 것과 같음"
   ]
  },
  {
   "cell_type": "code",
   "execution_count": 7,
   "metadata": {},
   "outputs": [
    {
     "name": "stdout",
     "output_type": "stream",
     "text": [
      "0.9974503966084433 0.8887848893166506\n"
     ]
    }
   ],
   "source": [
    "# 하나의 결정 트리에서 특성을 무작위로 분할한다면 성능이 낮아지지만\n",
    "# 많은 트리를 앙상블하기 때문에 과대적합을 막고 검증 세트 점수를 높이는 효과가 있음.\n",
    "\n",
    "from sklearn.ensemble import ExtraTreesClassifier\n",
    "et = ExtraTreesClassifier(n_jobs=-1, random_state=42)\n",
    "scores = cross_validate(et, train_input, train_target, return_train_score=True, n_jobs=-1)\n",
    "print(np.mean(scores['train_score']), np.mean(scores['test_score']))"
   ]
  },
  {
   "cell_type": "code",
   "execution_count": 8,
   "metadata": {},
   "outputs": [
    {
     "name": "stdout",
     "output_type": "stream",
     "text": [
      "[0.20183568 0.52242907 0.27573525]\n"
     ]
    }
   ],
   "source": [
    "# 중요도 확인 가능\n",
    "et.fit(train_input, train_target)\n",
    "print(et.feature_importances_)"
   ]
  },
  {
   "cell_type": "code",
   "execution_count": null,
   "metadata": {},
   "outputs": [],
   "source": []
  },
  {
   "cell_type": "markdown",
   "metadata": {},
   "source": [
    "그레이디언트 부스팅 (gradient boosting)\n",
    "- 깊이가 얕은 결정 트리를 사용하여 이전 트리의 오차를 보완하는 방식으로 앙상블 하는 방법\n",
    "- 사이킷런의 GradientBoostingClassifier 는 기본적으로 깊이가 3인 결정 트리를 100개 사용.\n",
    "- 깊이가 얕은 결정 트리를 사용하기 때문에 과대적합에 강하고 일반적으로는 높은 일반화 성능 기대 가능\n",
    "\n",
    "- 경사 하강법을 사용하여 트리를 앙상블에 추가\n",
    "- 분류에서는 로지스틱 함수 사용\n",
    "- 회기에서는 평균 제곱 오차 함수 사용"
   ]
  },
  {
   "cell_type": "code",
   "execution_count": 10,
   "metadata": {},
   "outputs": [
    {
     "name": "stdout",
     "output_type": "stream",
     "text": [
      "0.8881086892152563 0.8720430147331015\n"
     ]
    }
   ],
   "source": [
    "from sklearn.ensemble import GradientBoostingClassifier\n",
    "gb = GradientBoostingClassifier(random_state=42)\n",
    "scores = cross_validate(gb, train_input, train_target,return_train_score=True, n_jobs=-1)\n",
    "print(np.mean(scores['train_score']), np.mean(scores['test_score']))\n",
    "# 과대적합되지 않은 점수가 나옴!\n",
    "# 결정 트리 개수를 늘려도 과대적합 되지 않음.>> 학습률 증가 및 성능 향상"
   ]
  },
  {
   "cell_type": "code",
   "execution_count": 11,
   "metadata": {},
   "outputs": [
    {
     "name": "stdout",
     "output_type": "stream",
     "text": [
      "0.9464595437171814 0.8780082549788999\n"
     ]
    }
   ],
   "source": [
    "from sklearn.ensemble import GradientBoostingClassifier\n",
    "gb = GradientBoostingClassifier(n_estimators=500, learning_rate=0.2, random_state=42)\n",
    "scores = cross_validate(gb, train_input, train_target, return_train_score=True, n_jobs=-1)\n",
    "print(np.mean(scores['train_score']), np.mean(scores['test_score']))"
   ]
  },
  {
   "cell_type": "code",
   "execution_count": 12,
   "metadata": {},
   "outputs": [
    {
     "name": "stdout",
     "output_type": "stream",
     "text": [
      "[0.15872278 0.68011572 0.16116151]\n"
     ]
    }
   ],
   "source": [
    "gb.fit(train_input, train_target)\n",
    "print(gb.feature_importances_)"
   ]
  },
  {
   "cell_type": "code",
   "execution_count": null,
   "metadata": {},
   "outputs": [],
   "source": [
    "# subsample 매개변수 : 트리 훈련에 사용할 훈련 세트의 비율을 정하는 매개변수\n",
    "# 기본값 == 1, 전체 훈련 세트 사용.\n",
    "\n",
    "# 일반적으로 그레디언트 부스팅이 랜덤 포레스트보다 조금 더 높은 성능을 냄.\n",
    "# 하지만 순서대로 트리를 추가하기 때문에 훈련 속도가 느림.\n",
    "# 즉, GradientBoostingClassifier에는 n_jobs 매개변수가 없음"
   ]
  },
  {
   "cell_type": "code",
   "execution_count": null,
   "metadata": {},
   "outputs": [],
   "source": []
  },
  {
   "cell_type": "markdown",
   "metadata": {},
   "source": [
    "히스토그램 기반 그레이디언트 부스팅(Histogram-based gradient boosting)\n",
    "\n",
    "- 정형 데이터를 다루는 머신러닝 중 가장 인기가 높은 알고리즘.\n",
    "- \n",
    "- 우선 입력 특성을 256개의 구간으로 나눔. >> 노드를 분할할 때 최적의 분할을 빠르게 찾을 수 있음.\n",
    "- 부스팅 256개의 구간 중 하나를 떼어 놓고 누락된 값을 위해 사용함.\n",
    "- 입력에 누락된 특성이 있어도 이를 따로 전처리할 필요가 없음!\n",
    "- \n",
    "- HistGradientBoostingClassifier()\n",
    "- 트리의 개수를 지정하는데 n_estimators 대신 max_iter 사용"
   ]
  },
  {
   "cell_type": "code",
   "execution_count": 13,
   "metadata": {},
   "outputs": [
    {
     "name": "stderr",
     "output_type": "stream",
     "text": [
      "c:\\Users\\user\\anaconda3\\lib\\site-packages\\sklearn\\experimental\\enable_hist_gradient_boosting.py:16: UserWarning: Since version 1.0, it is not needed to import enable_hist_gradient_boosting anymore. HistGradientBoostingClassifier and HistGradientBoostingRegressor are now stable and can be normally imported from sklearn.ensemble.\n",
      "  warnings.warn(\n"
     ]
    },
    {
     "name": "stdout",
     "output_type": "stream",
     "text": [
      "0.9321723946453317 0.8801241948619236\n"
     ]
    }
   ],
   "source": [
    "from sklearn.experimental import enable_hist_gradient_boosting\n",
    "from sklearn.ensemble import HistGradientBoostingClassifier\n",
    "hgb = HistGradientBoostingClassifier(random_state=42)\n",
    "scores = cross_validate(hgb, train_input, train_target, return_train_score=True)\n",
    "print(np.mean(scores['train_score']), np.mean(scores['test_score']))"
   ]
  },
  {
   "cell_type": "code",
   "execution_count": 14,
   "metadata": {},
   "outputs": [
    {
     "name": "stdout",
     "output_type": "stream",
     "text": [
      "[0.08876275 0.23438522 0.08027708]\n"
     ]
    }
   ],
   "source": [
    "# 특성 중요도 확인\n",
    "# 히스토그램 기반 그레디언트 부스팅의 특성 중요도 계산 // permutation_importance() 함수 사용\n",
    "# >> 특성을 하나씩 랜덤하게 섞어서 모델의 성능이 변화하는지 관찰하여 어떤 특성이 중요한지 계산\n",
    "\n",
    "# 훈련 세트뿐만 아니라 테스트 세트에도 적용 가능. 사이킷런에서 제공하는 모든 추정기 모델 훈련에 사용 가능\n",
    "\n",
    "\n",
    "# 히스토그램 기반 부스팅 모델 훈련 후 훈련세트에서 특성 중요도 계산.\n",
    "# n_repeats 매개변수는 랜덤하게 섞을 횟수 지정.\n",
    "\n",
    "\n",
    "from sklearn.inspection import permutation_importance\n",
    "\n",
    "hgb.fit(train_input, train_target)\n",
    "result = permutation_importance(hgb, train_input, train_target, n_repeats=10, random_state=42, n_jobs=-1)\n",
    "print(result.importances_mean)"
   ]
  },
  {
   "cell_type": "code",
   "execution_count": 15,
   "metadata": {},
   "outputs": [
    {
     "name": "stdout",
     "output_type": "stream",
     "text": [
      "[0.05969231 0.20238462 0.049     ]\n"
     ]
    }
   ],
   "source": [
    "# 테스트 세트에서 특성 중요도 계산.\n",
    "result = permutation_importance(hgb, test_input, test_target, n_repeats=10, random_state=42, n_jobs=-1)\n",
    "print(result.importances_mean)"
   ]
  },
  {
   "cell_type": "code",
   "execution_count": 16,
   "metadata": {},
   "outputs": [
    {
     "data": {
      "text/plain": [
       "0.8723076923076923"
      ]
     },
     "execution_count": 16,
     "metadata": {},
     "output_type": "execute_result"
    }
   ],
   "source": [
    "# 최종적으로 성능 확인\n",
    "hgb.score(test_input, test_target)"
   ]
  },
  {
   "cell_type": "markdown",
   "metadata": {},
   "source": [
    "XGBoost"
   ]
  },
  {
   "cell_type": "code",
   "execution_count": 23,
   "metadata": {},
   "outputs": [
    {
     "name": "stdout",
     "output_type": "stream",
     "text": [
      "0.9555033709953124 0.8799326275264677\n"
     ]
    }
   ],
   "source": [
    "from xgboost import XGBClassifier\n",
    "xgb = XGBClassifier(tree_method='hist',random_state=42)\n",
    "scores = cross_validate(xgb,train_input, train_target, return_train_score=True)\n",
    "scores\n",
    "print(np.mean(scores['train_score']), np.mean(scores['test_score']))"
   ]
  },
  {
   "cell_type": "code",
   "execution_count": 25,
   "metadata": {},
   "outputs": [
    {
     "name": "stdout",
     "output_type": "stream",
     "text": [
      "Collecting lightgbm\n",
      "  Downloading lightgbm-3.3.3-py3-none-win_amd64.whl (1.0 MB)\n",
      "     ---------------------------------------- 1.0/1.0 MB 9.2 MB/s eta 0:00:00\n",
      "Requirement already satisfied: numpy in c:\\users\\user\\anaconda3\\lib\\site-packages (from lightgbm) (1.21.5)\n",
      "Requirement already satisfied: scikit-learn!=0.22.0 in c:\\users\\user\\anaconda3\\lib\\site-packages (from lightgbm) (1.0.2)\n",
      "Requirement already satisfied: wheel in c:\\users\\user\\anaconda3\\lib\\site-packages (from lightgbm) (0.37.1)\n",
      "Requirement already satisfied: scipy in c:\\users\\user\\anaconda3\\lib\\site-packages (from lightgbm) (1.9.1)\n",
      "Requirement already satisfied: threadpoolctl>=2.0.0 in c:\\users\\user\\anaconda3\\lib\\site-packages (from scikit-learn!=0.22.0->lightgbm) (2.2.0)\n",
      "Requirement already satisfied: joblib>=0.11 in c:\\users\\user\\anaconda3\\lib\\site-packages (from scikit-learn!=0.22.0->lightgbm) (1.1.0)\n",
      "Installing collected packages: lightgbm\n",
      "Successfully installed lightgbm-3.3.3\n"
     ]
    }
   ],
   "source": [
    "!pip install lightgbm"
   ]
  },
  {
   "cell_type": "code",
   "execution_count": 27,
   "metadata": {},
   "outputs": [
    {
     "name": "stdout",
     "output_type": "stream",
     "text": [
      "0.935828414851749 0.8801251203079884\n"
     ]
    }
   ],
   "source": [
    "from lightgbm import LGBMClassifier\n",
    "lgb = LGBMClassifier(random_state=42)\n",
    "scores = cross_validate(lgb, train_input, train_target, return_train_score=True)\n",
    "print(np.mean(scores['train_score']), np.mean(scores['test_score']))"
   ]
  },
  {
   "cell_type": "code",
   "execution_count": null,
   "metadata": {},
   "outputs": [],
   "source": []
  },
  {
   "cell_type": "markdown",
   "metadata": {},
   "source": [
    "코드 적어보기"
   ]
  },
  {
   "cell_type": "code",
   "execution_count": null,
   "metadata": {},
   "outputs": [],
   "source": [
    "# 랜덤 포레스트"
   ]
  },
  {
   "cell_type": "code",
   "execution_count": 28,
   "metadata": {},
   "outputs": [],
   "source": [
    "import pandas as pd\n",
    "import numpy as np\n",
    "wine = pd.read_csv('https://bit.ly/wine_csv_data')"
   ]
  },
  {
   "cell_type": "code",
   "execution_count": 30,
   "metadata": {},
   "outputs": [],
   "source": [
    "data = wine[['alcohol','sugar','pH']].to_numpy()\n",
    "target = wine['class'].to_numpy()\n",
    "\n",
    "from sklearn.model_selection import train_test_split\n",
    "train_input, test_input, train_target, test_target = train_test_split(data, target, test_size=0.2)\n"
   ]
  },
  {
   "cell_type": "code",
   "execution_count": 31,
   "metadata": {},
   "outputs": [
    {
     "name": "stdout",
     "output_type": "stream",
     "text": [
      "0.9978353011309471 0.889741245280225\n"
     ]
    }
   ],
   "source": [
    "from sklearn.ensemble import RandomForestClassifier\n",
    "from sklearn.model_selection import cross_validate\n",
    "rf = RandomForestClassifier(n_jobs=-1)\n",
    "scores = cross_validate(rf, train_input, train_target, return_train_score=True, n_jobs=-1)\n",
    "print(np.mean(scores['train_score']), np.mean(scores['test_score']))"
   ]
  },
  {
   "cell_type": "code",
   "execution_count": 34,
   "metadata": {},
   "outputs": [
    {
     "name": "stdout",
     "output_type": "stream",
     "text": [
      "0.9978834011790472 0.8883939808987933\n",
      "0.898787762170483\n"
     ]
    }
   ],
   "source": [
    "# OOB 뽑아내기.\n",
    "rf = RandomForestClassifier(oob_score=True, n_jobs=-1)\n",
    "rf.fit(train_input, train_target)\n",
    "scores = cross_validate(rf, train_input, train_target,return_train_score=True)\n",
    "print(np.mean(scores['train_score']), np.mean(scores['test_score']))\n",
    "print(rf.oob_score_)"
   ]
  },
  {
   "cell_type": "code",
   "execution_count": 36,
   "metadata": {},
   "outputs": [
    {
     "name": "stdout",
     "output_type": "stream",
     "text": [
      "0.9978834011790472 0.8833925001850892\n"
     ]
    }
   ],
   "source": [
    "# 엑스트라 트리\n",
    "from sklearn.ensemble import ExtraTreesClassifier\n",
    "et = ExtraTreesClassifier(n_jobs=-1)\n",
    "scores = cross_validate(et, train_input, train_target, return_train_score=True)\n",
    "print(np.mean(scores['train_score']), np.mean(scores['test_score']))"
   ]
  },
  {
   "cell_type": "code",
   "execution_count": 38,
   "metadata": {},
   "outputs": [
    {
     "name": "stdout",
     "output_type": "stream",
     "text": [
      "0.8858473389866219 0.8718449692751905\n"
     ]
    }
   ],
   "source": [
    "# 그레이디언트 부스팅\n",
    "from sklearn.ensemble import GradientBoostingClassifier\n",
    "gb = GradientBoostingClassifier()\n",
    "scores = cross_validate(gb, train_input, train_target, return_train_score= True)\n",
    "print(np.mean(scores['train_score']), np.mean(scores['test_score']))"
   ]
  },
  {
   "cell_type": "code",
   "execution_count": 39,
   "metadata": {},
   "outputs": [
    {
     "name": "stdout",
     "output_type": "stream",
     "text": [
      "0.9432845355626208 0.871653587028948\n"
     ]
    }
   ],
   "source": [
    "# 그레이디언트 부스팅 n_estimators = \n",
    "\n",
    "gb = GradientBoostingClassifier(n_estimators=500, learning_rate=0.2)\n",
    "scores = cross_validate(gb, train_input, train_target, return_train_score=True, n_jobs=-1)\n",
    "print(np.mean(scores['train_score']), np.mean(scores['test_score']))"
   ]
  },
  {
   "cell_type": "code",
   "execution_count": 41,
   "metadata": {},
   "outputs": [
    {
     "name": "stdout",
     "output_type": "stream",
     "text": [
      "0.954011910807677 0.8766554379210779\n"
     ]
    }
   ],
   "source": [
    "# 히스토리그램 기반 그레이디언트 부스팅\n",
    "\n",
    "from xgboost import XGBClassifier\n",
    "xgb = XGBClassifier(tree_method='hist')\n",
    "scores = cross_validate(xgb, train_input, train_target, return_train_score = True)\n",
    "\n",
    "print(np.mean(scores['train_score']), np.mean(scores['test_score']))"
   ]
  },
  {
   "cell_type": "code",
   "execution_count": null,
   "metadata": {},
   "outputs": [],
   "source": []
  },
  {
   "cell_type": "code",
   "execution_count": null,
   "metadata": {},
   "outputs": [],
   "source": [
    "# ** 키워드 핵심 **\n",
    "\n",
    "# ** 앙상블 학습 : 더 좋은 예측 결과를 만들기 위해 여러 개의 모델을 훈련하는 머신러닝 알고리즘\n",
    "# ** 랜덤 포레스트 : 대표적인 결정 트리 기반의 앙상블 학습.\n",
    "#   부스스트랩 샘플을 사용하고 랜덤하게 특성을 선택하여 트리를 만드는 것이 특징\n",
    "# ** 엑스트라 트리 : 랜덤 포레스트와 비슷하게 결정 트리를 사용하여 앙상블 모델을 만들지만\n",
    "#   부트스트랩은 사용하지 않음. 대신 랜덤하게 노드를 분할해 과대적합 감소\n",
    "# ** 그레이디언트 부스팅 : 결정 트리를 연속적으로 추가하여 손실함 수 최소화하는 앙상블 방법\n",
    "#     훈련 속도가 조금 느리지만 더 좋은 성능 기대\n",
    "  # ** 히스토그램 기반 그레이디언트 부스팅 : 그레이디언트 부스팅 속도 개선"
   ]
  },
  {
   "cell_type": "code",
   "execution_count": null,
   "metadata": {},
   "outputs": [],
   "source": [
    "# ** 패키지 함수 **\n",
    "\n",
    "# ** RandomForestClassifier 랜덤 포레스트 분류 클래스\n",
    "#   * n_estimators 매개변수 : 앙상블을 구성할 트리의 개수 지정. 기본값 == 100\n",
    "#   * criterion 매개변수 : 불순도 지정. 기본값 == 'gini', entroy 불순도 사용 가능\n",
    "#   * max_depth : 트리가 성장할 최대 깊이. 기본값 == None\n",
    "#   * min_samples_split : 노드를 나누기 위한 최소 샘플 개수, 기본값 == 2\n",
    "#   * max_features 매개변수 : 최적의 분할을 위해 탐색할 특성의 개수 , 기본값 auto , 특성 개수의 제곱근\n",
    "#   * bootstrap 매개변수 : 부트스트랩 샘플을 사용할지 지정 기본값 == True\n",
    "#   * oob_score : OOB 샘플을 사용하여 훈련한 모델을 평가할지 지정. 기본값 ==False\n",
    "#   * n_jobs= 매개변수 : 병렬 실행에 사용할 cpu 코어 수 지정\n",
    "\n",
    "# ** ExtraTreesClassifier 엑스트라 트리 분류 클래스\n",
    "#   * RandomForestClassifier와 매개변수 동일\n",
    "\n",
    "# ** GradientBoostingClassifier 그레이디언트 부스팅 분류 클래스\n",
    "#   * loss 매개변수 : 손실함수 지정. / 기본값 == 'deviance' == 로지스틱손실함수의미\n",
    "#   * learning_rate : 트리가 앙상블에 기여하는 정도 조절 기본값 ==0.1\n",
    "#   * n_estimators 매개변수 : 사용할 훈련 세트의 샘플 비율 지정. 기본값 1.0\n",
    "#   * subsample 매개변수 : 개별 회귀 트리의 최대 깊이. 기본값 3\n",
    "\n",
    "# ** HistGradientBoostingClassifier 히스토그램 기반 그레이디언트 부스팅 분류 클래스\n",
    "#   * learning_rate 매개변수 학습률 또는 감쇠율\n",
    "#   * 기본값 0.1, 1.0.이면 감쇠가 전혀 없음.\n",
    "#   * max_iter 부스팅 단계를 수행하는 트리의 개수. 기본값은 100\n",
    "#   * max_bins 입력데이터를 나눌 구간의 개수. 기본값 ==255,  이보다 크게 지정 불가능\n",
    "#     1개의 구간이 누락된 값을 위해 추가됨."
   ]
  },
  {
   "cell_type": "code",
   "execution_count": null,
   "metadata": {},
   "outputs": [],
   "source": []
  },
  {
   "cell_type": "markdown",
   "metadata": {},
   "source": [
    "확인 문제"
   ]
  },
  {
   "cell_type": "code",
   "execution_count": null,
   "metadata": {},
   "outputs": [],
   "source": [
    "1. 여러 개의 모델을 훈련시키고 각 모델의 예측을 취합하여 최종 결과를 만드느 학습 방식\n",
    " 앙상블\n",
    " "
   ]
  },
  {
   "cell_type": "code",
   "execution_count": null,
   "metadata": {},
   "outputs": [],
   "source": [
    "2. 다음 중 비정형 데이터에 속하는 것\n",
    "4. 이미지 데이터"
   ]
  },
  {
   "cell_type": "code",
   "execution_count": null,
   "metadata": {},
   "outputs": [],
   "source": [
    "3. 다음 알고리즘 중 기본적으로 부트스트램 샘플을 사용하는 알고리즘?\n",
    "1.랜덤 포레스트\n",
    "2.엑스트라 트리\n",
    "3.그레이디언트 부스팅 >>>>\n",
    "4. 히스토그램 기반 그레이디언트 부스팅 >>>\n",
    " 3,4 둘 다 아닌"
   ]
  },
  {
   "cell_type": "code",
   "execution_count": null,
   "metadata": {},
   "outputs": [],
   "source": []
  },
  {
   "cell_type": "code",
   "execution_count": null,
   "metadata": {},
   "outputs": [],
   "source": []
  },
  {
   "cell_type": "code",
   "execution_count": null,
   "metadata": {},
   "outputs": [],
   "source": []
  }
 ],
 "metadata": {
  "kernelspec": {
   "display_name": "base",
   "language": "python",
   "name": "python3"
  },
  "language_info": {
   "codemirror_mode": {
    "name": "ipython",
    "version": 3
   },
   "file_extension": ".py",
   "mimetype": "text/x-python",
   "name": "python",
   "nbconvert_exporter": "python",
   "pygments_lexer": "ipython3",
   "version": "3.9.13 (main, Aug 25 2022, 23:51:50) [MSC v.1916 64 bit (AMD64)]"
  },
  "orig_nbformat": 4,
  "vscode": {
   "interpreter": {
    "hash": "a077222d77dfe082b8f1dd562ad70e458ac2ab76993a0b248ab0476e32e9e8dd"
   }
  }
 },
 "nbformat": 4,
 "nbformat_minor": 2
}
